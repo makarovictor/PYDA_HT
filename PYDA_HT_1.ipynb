{
 "cells": [
  {
   "cell_type": "markdown",
   "metadata": {},
   "source": [
    "Задание 1\n",
    "Даны 2 переменных, в которых хранятся строки произвольной длины: phrase_1 и phrase_2.\n",
    "Напишите код, который проверяет какая из этих строк длиннее."
   ]
  },
  {
   "cell_type": "markdown",
   "metadata": {},
   "source": [
    "phrase_1 = 'Насколько проще было бы писать программы, если бы не заказчики'\n",
    "phrase_2 = '640Кб должно хватить для любых задач. Билл Гейтс (по легенде)'\n",
    "Результат:\n",
    "Фраза 1 длиннее фразы 2"
   ]
  },
  {
   "cell_type": "code",
   "execution_count": null,
   "metadata": {},
   "outputs": [],
   "source": [
    "phrase_1 = 'Насколько проще было бы писать программы, если бы не заказчики'\n",
    "phrase_2 = '640Кб должно хватить для любых задач. Билл Гейтс (по легенде)'\n",
    "\n",
    "if len(phrase_1) > len(phrase_2): \n",
    "    print(\"Фраза 1 длиннее фразы 2\")\n"
   ]
  },
  {
   "cell_type": "markdown",
   "metadata": {},
   "source": [
    "phrase_1 = '640Кб должно хватить для любых задач. Билл Гейтс (по легенде)'\n",
    "phrase_2 = 'Насколько проще было бы писать программы, если бы не заказчики'\n",
    "Результат:\n",
    "Фраза 2 длиннее фразы 1"
   ]
  },
  {
   "cell_type": "code",
   "execution_count": null,
   "metadata": {},
   "outputs": [],
   "source": [
    "phrase_1 = '640Кб должно хватить для любых задач. Билл Гейтс (по легенде)'\n",
    "phrase_2 = 'Насколько проще было бы писать программы, если бы не заказчики'\n",
    "\n",
    "if len(phrase_2) > len(phrase_1): \n",
    "    print(\"Фраза 2 длиннее фразы 1\")"
   ]
  },
  {
   "cell_type": "markdown",
   "metadata": {},
   "source": [
    "phrase_1 = 'Насколько проще было бы писать программы, если бы не заказчики’\n",
    "phrase_2 = 'Насколько проще было бы писать программы, если бы не заказчики’\n",
    "Результат:\n",
    "Фразы равной длины"
   ]
  },
  {
   "cell_type": "code",
   "execution_count": null,
   "metadata": {},
   "outputs": [],
   "source": [
    "phrase_1 = 'Насколько проще было бы писать программы, если бы не заказчики'\n",
    "phrase_2 = 'Насколько проще было бы писать программы, если бы не заказчики'\n",
    "Len_phrase_1 = len(phrase_1)\n",
    "Len_phrase_2 = len(phrase_2)\n",
    "\n",
    "print(Len_phrase_1)\n",
    "print(Len_phrase_2)\n",
    "\n",
    "if (Len_phrase_1 == Len_phrase_2):\n",
    "    print(\"Фразы равной длины\")"
   ]
  },
  {
   "cell_type": "markdown",
   "metadata": {},
   "source": [
    "Задание 2\n",
    "Дана переменная, в которой хранится четырехзначное число (год). Необходимо написать программу, которая выведет, является ли данный год високосным или обычным.\n",
    "\n",
    "Пример работы программы:\n",
    "\n",
    "year = 2020\n",
    "Результат:\n",
    "Високосный год\n",
    "\n",
    "year = 2019\n",
    "Результат:\n",
    "Обычный год"
   ]
  },
  {
   "cell_type": "code",
   "execution_count": null,
   "metadata": {},
   "outputs": [],
   "source": []
  },
  {
   "cell_type": "code",
   "execution_count": null,
   "metadata": {},
   "outputs": [],
   "source": [
    "i = int(input())\n",
    "\n",
    "if (i % 4 == 0 and i % 100 != 0) or i % 400 == 0:\n",
    "    print(\"Високосный год\")\n",
    "else:\n",
    "    print(\"Обычный год\")"
   ]
  },
  {
   "cell_type": "markdown",
   "metadata": {},
   "source": [
    "Необходимо написать программу, которая будет запрашивать у пользователя месяц и дату рождения и выводить \n",
    "соответствующий знак зодиака.\n",
    "\n",
    "Пример работы программы:\n",
    "\n",
    "Введите день:\n",
    "30\n",
    "\n",
    "Введите месяц:\n",
    "Август\n",
    "Результат:\n",
    "Ваш знак зодиака: Дева"
   ]
  },
  {
   "cell_type": "code",
   "execution_count": 10,
   "metadata": {},
   "outputs": [
    {
     "name": "stdout",
     "output_type": "stream",
     "text": [
      "Введите день:4\n",
      "Введите месяц:Август\n",
      "Ваш знак зодиака:Лев\n"
     ]
    }
   ],
   "source": [
    "date_num=int(input(\"Введите день:\"))\n",
    "month_name=input(\"Введите месяц:\")\n",
    "\n",
    "if (date_num>=21 and date_num<=31 and month_name==\"Март\") or( month_name==\"Апрель\" and date_num>=1 and date_num<=19):\n",
    "   print(\"Ваш знак зодиака:Овен\")\n",
    "elif (date_num>=20 and date_num<=30 and month_name==\"Апрель\") or( month_name==\"Май\" and date_num>=1 and date_num<=20):\n",
    "   print(\"Ваш знак зодиака:Телец\")\n",
    "elif (date_num>=21 and date_num<=31 and month_name==\"Май\") or( month_name==\"Июнь\" and date_num>=1 and date_num<=21):\n",
    "   print(\"Ваш знак зодиака:Близнецы\")\n",
    "elif (date_num>=22 and date_num<=30 and month_name==\"Июнь\") or( month_name==\"Июль\" and date_num>=1 and date_num<=22):\n",
    "   print(\"Ваш знак зодиака:Рак\")\n",
    "elif (date_num>=23 and date_num<=31 and month_name==\"Июль\") or( month_name==\"Август\" and date_num>=1 and date_num<=22):\n",
    "   print(\"Ваш знак зодиака:Лев\")\n",
    "elif (date_num>=23 and date_num<=31 and month_name==\"Август\") or( month_name==\"Сентябрь\" and date_num>=1 and date_num<=22):\n",
    "   print(\"Ваш знак зодиака:Дева\")\n",
    "elif (date_num>=23 and date_num<=30 and month_name==\"Сентябрь\") or( month_name==\"Октябрь\" and date_num>=1 and date_num<=23):\n",
    "   print(\"Ваш знак зодиака:Весы\")\n",
    "elif (date_num>=24 and date_num<=31 and month_name==\"Октябрь\") or( month_name==\"Ноябрь\" and date_num>=1 and date_num<=22):\n",
    "   print(\"Ваш знак зодиака:Скорпион\")\n",
    "elif (date_num>=23 and date_num<=30 and month_name==\"Ноябрь\") or( month_name==\"Декабрь\" and date_num>=1 and date_num<=21):\n",
    "   print(\"Ваш знак зодиака:Стрелец\")\n",
    "elif (date_num>=22 and date_num<=31 and month_name==\"Декабрь\") or( month_name==\"Январь\" and date_num>=1 and date_num<=20):\n",
    "   print(\"Ваш знак зодиака:Козерог\")\n",
    "elif (date_num>=21 and date_num<=31 and month_name==\"Январь\") or( month_name==\"Февраль\" and date_num>=1 and date_num<=18):\n",
    "   print(\"Ваш знак зодиака:Водолей\")\n",
    "elif (date_num>=19 and date_num<=29 and month_name==\"Февраль\") or( month_name==\"Март\" and date_num>=1 and date_num<=20):\n",
    "   print(\"Ваш знак зодиака:Рыбы\")\n",
    "\n"
   ]
  },
  {
   "cell_type": "markdown",
   "metadata": {},
   "source": [
    "Задание 4\n",
    "Вам нужно написать программу для подбора упаковок по размерам товара. Размеры хранятся в переменных (в сантиметрах):\n",
    "\n",
    "width = 10\n",
    "length = 205\n",
    "height = 5\n",
    "Используйте следующие правила:\n",
    "\n",
    "если каждое из трех измерений менее 15 сантиметров, то выведите на экран “Коробка №1”;\n",
    "если хотя бы одно из измерений больше 15 сантиметров, но менее 50 сантиметров, то выводите “Коробка №2”;\n",
    "если длина товара больше 2 метров, то выводите “Упаковка для лыж”;\n",
    "во всех остальных случаях выводите “Стандартная коробка №3”."
   ]
  },
  {
   "cell_type": "code",
   "execution_count": 17,
   "metadata": {},
   "outputs": [
    {
     "name": "stdout",
     "output_type": "stream",
     "text": [
      "Введите ширину в сантиметрах: 10\n",
      "Введите длину в сантиметрах: 20\n",
      "Введите высоту в сантиметрах: 10\n",
      "Коробка №2\n"
     ]
    }
   ],
   "source": [
    "w = int(input(\"Введите ширину в сантиметрах: \")) \n",
    "l = int(input(\"Введите длину в сантиметрах: \")) \n",
    "h = int(input(\"Введите высоту в сантиметрах: \")) \n",
    "\n",
    "if (l > 200):\n",
    "    print(\"Упаковка для лыж\")\n",
    "elif (w < 15 and l < 15 and h < 15):\n",
    "    print(\"Коробка №1\")\n",
    "elif (w > 15 or l > 15 or h > 15):\n",
    "    print(\"Коробка №2\")\n",
    "else: print(\"Стандартная коробка №3\")"
   ]
  },
  {
   "cell_type": "code",
   "execution_count": null,
   "metadata": {},
   "outputs": [],
   "source": []
  }
 ],
 "metadata": {
  "kernelspec": {
   "display_name": "Python 3",
   "language": "python",
   "name": "python3"
  },
  "language_info": {
   "codemirror_mode": {
    "name": "ipython",
    "version": 3
   },
   "file_extension": ".py",
   "mimetype": "text/x-python",
   "name": "python",
   "nbconvert_exporter": "python",
   "pygments_lexer": "ipython3",
   "version": "3.8.5"
  }
 },
 "nbformat": 4,
 "nbformat_minor": 4
}
