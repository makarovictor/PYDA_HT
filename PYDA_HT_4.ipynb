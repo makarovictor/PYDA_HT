{
 "cells": [
  {
   "cell_type": "code",
   "execution_count": 10,
   "metadata": {},
   "outputs": [],
   "source": [
    "documents = [\n",
    " {'type': 'passport', 'number': '2207 876234', 'name': 'Василий Гупкин'},\n",
    " {'type': 'invoice', 'number': '11-2', 'name': 'Геннадий Покемонов'},\n",
    " {'type': 'insurance', 'number': '10006', 'name': 'Аристарх Павлов'}\n",
    "]\n",
    " \n",
    "directories = { '1': ['2207 876234', '11-2'],  '2': ['10006'],  '3': []}"
   ]
  },
  {
   "cell_type": "markdown",
   "metadata": {},
   "source": [
    "Задание 1¶\n",
    "Пункт 1. Пользователь по команде \"p\" может узнать владельца документа по его номеру\n",
    "Примеры работы:\n",
    "\n",
    "1.\n",
    "\n",
    "Введите команду:\n",
    "p\n",
    "\n",
    "Введите номер документа:\n",
    "10006\n",
    "Результат:\n",
    "Владелец документа: Аристарх Павлов\n",
    "\n",
    "2.\n",
    "\n",
    "Введите команду:\n",
    "p\n",
    "\n",
    "Введите номер документа:\n",
    "12345\n",
    "Результат:\n",
    "Документ не найден в базе"
   ]
  },
  {
   "cell_type": "code",
   "execution_count": 24,
   "metadata": {},
   "outputs": [
    {
     "name": "stdout",
     "output_type": "stream",
     "text": [
      "Введите номер документа 12345\n",
      "Документ не найден в базе\n"
     ]
    }
   ],
   "source": [
    "def P_FUNCTION(documents, directories):\n",
    "   \n",
    "    number_of_doc = str(input('Введите номер документа '))\n",
    "    index = 1\n",
    "    x= len(documents)\n",
    "    for doc in documents:\n",
    "        if number_of_doc == doc[\"number\"]:\n",
    "            print(doc[\"name\"])\n",
    "            break\n",
    "        elif index == x and number_of_doc != doc[\"number\"]:\n",
    "            print ('Документ не найден в базе')\n",
    "        index +=1   \n",
    "P_FUNCTION(documents, directories)"
   ]
  },
  {
   "cell_type": "code",
   "execution_count": 20,
   "metadata": {},
   "outputs": [
    {
     "name": "stdout",
     "output_type": "stream",
     "text": [
      "Введите номер документа 10006\n",
      "Документ на полке №  2\n"
     ]
    }
   ],
   "source": [
    "def S_FUNCTION(directories,documents):\n",
    "\n",
    "    \n",
    "    number_of_doc = str(input('Введите номер документа '))\n",
    "    for shelf in directories:\n",
    "        for doc_on_the_shelf in directories[shelf]:\n",
    "            if doc_on_the_shelf == number_of_doc:\n",
    "                print('Документ на полке № ', shelf)\n",
    "    index = 1\n",
    "    x= len(documents)            \n",
    "    for doc in documents:\n",
    "        if number_of_doc == doc[\"number\"]:\n",
    "            break\n",
    "        elif index == x and number_of_doc != doc[\"number\"]:\n",
    "            print ('Документ не найден в базе')\n",
    "        index +=1  \n",
    "S_FUNCTION(directories,documents)"
   ]
  },
  {
   "cell_type": "markdown",
   "metadata": {},
   "source": [
    "Пункт 2. Пользователь по команде \"s\" может по номеру документа узнать на какой полке он хранится¶\n",
    "Примеры работы:\n",
    "\n",
    "1.\n",
    "\n",
    "Введите команду:\n",
    "s\n",
    "\n",
    "Введите номер документа:\n",
    "10006\n",
    "Результат:\n",
    "Документ хранится на полке: 2\n",
    "\n",
    "2.\n",
    "\n",
    "Введите команду:\n",
    "p\n",
    "\n",
    "Введите номер документа:\n",
    "12345\n",
    "Результат:\n",
    "Документ не найден в базе"
   ]
  },
  {
   "cell_type": "code",
   "execution_count": 30,
   "metadata": {},
   "outputs": [
    {
     "name": "stdout",
     "output_type": "stream",
     "text": [
      "Введите команду:s\n",
      "Введите номер документа 12345\n",
      "Документ не найден в базе\n",
      "Введите команду:p\n",
      "Введите номер документа 10006\n",
      "Аристарх Павлов\n",
      "Введите команду:q\n",
      "Выход из программы\n"
     ]
    }
   ],
   "source": [
    "\n",
    "def main():\n",
    "    while True:\n",
    "        command=input('Введите команду:')\n",
    "                      \n",
    "        if command =='p':\n",
    "            P_FUNCTION(documents, directories)\n",
    "        elif command =='s':\n",
    "            S_FUNCTION(directories,documents)\n",
    " \n",
    "        elif command =='q':\n",
    "            print('Выход из программы')\n",
    "            break\n",
    "        else:\n",
    "            print('Введена неверная команда')\n",
    "main()"
   ]
  },
  {
   "cell_type": "markdown",
   "metadata": {},
   "source": [
    "Пункт 3. Пользователь по команде \"l\" может увидеть полную информацию по всем документам\n",
    "Пример работы:\n",
    "\n",
    "Введите команду:\n",
    "l\n",
    "Результат:\n",
    "\n",
    "№: 2207 876234, тип: passport, владелец: Василий Гупкин, полка хранения: 1\n",
    "№: 11-2, тип: invoice, владелец: Геннадий Покемонов, полка хранения: 1\n",
    "№: 10006, тип: insurance, владелец: Аристарх Павлов, полка хранения: 2"
   ]
  },
  {
   "cell_type": "code",
   "execution_count": 38,
   "metadata": {},
   "outputs": [
    {
     "name": "stdout",
     "output_type": "stream",
     "text": [
      "Введите команду:l\n",
      "№: 2207 876234, тип: passport, владелец: Василий Гупкин, полка хранения: 1\n",
      "№: 11-2, тип: invoice, владелец: Геннадий Покемонов, полка хранения: 1\n",
      "№: 10006, тип: insurance, владелец: Аристарх Павлов, полка хранения: 2\n",
      "Введите команду:q\n",
      "Выход из программы\n"
     ]
    }
   ],
   "source": [
    "def L_FUNCTION(documents, directories):\n",
    "   \n",
    "    while True:\n",
    "        command=input('Введите команду:')\n",
    "                      \n",
    "        if command =='l':\n",
    "            for shelf, cont in directories.items():\n",
    "                for doc in documents:\n",
    "                    if doc['number'] in cont:\n",
    "                        print(f\"№: {doc['number']}, тип: {doc['type']}, владелец: {doc['name']}, полка хранения: {shelf}\")\n",
    "        elif command =='q':\n",
    "            print('Выход из программы')\n",
    "            break\n",
    "        else:\n",
    "            print('Введена неверная команда')\n",
    " \n",
    "L_FUNCTION(documents,directories)"
   ]
  },
  {
   "cell_type": "code",
   "execution_count": null,
   "metadata": {},
   "outputs": [],
   "source": [
    "Пункт 4. Пользователь по команде \"ads\" может добавить новую полку\n",
    "Примеры работы:\n",
    "\n",
    "1.\n",
    "\n",
    "Введите команду:\n",
    "ads\n",
    "\n",
    "Введите номер полки:\n",
    "10\n",
    "Результат:\n",
    "Полка добавлена. Текущий перечень полок: 1, 2, 3, 10.\n",
    "\n",
    "2.\n",
    "\n",
    "Введите команду:\n",
    "ads\n",
    "\n",
    "Введите номер полки:\n",
    "1\n",
    "Результат:\n",
    "Такая полка уже существует. Текущий перечень полок: 1, 2, 3."
   ]
  },
  {
   "cell_type": "code",
   "execution_count": 85,
   "metadata": {},
   "outputs": [
    {
     "name": "stdout",
     "output_type": "stream",
     "text": [
      "Введите команду:ads\n",
      "Введите номер полки: 10\n",
      "Такая полка уже существует. Текущий перечень полок: ['1', '2', '3', '10', '5', '7']\n",
      "Введите команду:ads\n",
      "Введите номер полки: 100\n",
      "Полка добавлена. Текущий перечень полок: ['1', '2', '3', '10', '5', '7', '100']\n",
      "Введите команду:q\n",
      "Выход из программы\n"
     ]
    }
   ],
   "source": [
    "def ADS_FUNCTION():\n",
    "\n",
    "    while True:\n",
    "        command=input('Введите команду:')\n",
    "        \n",
    "        if command =='q':\n",
    "            print('Выход из программы')\n",
    "            break\n",
    "        \n",
    "        if command =='ads':\n",
    "    \n",
    "            shelf = input(\"Введите номер полки: \")\n",
    "            for direct in directories.items():\n",
    "                if shelf in direct[0]:\n",
    "                    print(f\"Такая полка уже существует. Текущий перечень полок: {list(directories.keys())}\")\n",
    "                    break\n",
    "            else:\n",
    "                directories[shelf] = []\n",
    "                print(f\"Полка добавлена. Текущий перечень полок: {list(directories.keys())}\")\n",
    "                \n",
    "            \n",
    "ADS_FUNCTION()"
   ]
  },
  {
   "cell_type": "markdown",
   "metadata": {},
   "source": [
    "Пункт 5. Пользователь по команде \"ds\" может удалить существующую полку из данных (только если она пустая)¶\n",
    "Примеры работы:\n",
    "\n",
    "1.\n",
    "\n",
    "Введите команду:\n",
    "ds\n",
    "\n",
    "Введите номер полки:\n",
    "3\n",
    "Результат:\n",
    "Полка удалена. Текущий перечень полок: 1, 2.\n",
    "\n",
    "2.\n",
    "\n",
    "Введите команду:\n",
    "ds\n",
    "\n",
    "Введите номер полки:\n",
    "1\n",
    "Результат:\n",
    "На полке есть документа, удалите их перед удалением полки. Текущий перечень полок: 1, 2, 3.\n",
    "\n",
    "3.\n",
    "\n",
    "Введите команду:\n",
    "ds\n",
    "\n",
    "Введите номер полки:\n",
    "4\n",
    "Результат:\n",
    "Такой полки не существует. Текущий перечень полок: 1, 2, 3."
   ]
  },
  {
   "cell_type": "code",
   "execution_count": 181,
   "metadata": {},
   "outputs": [
    {
     "name": "stdout",
     "output_type": "stream",
     "text": [
      "Введите команду:ds\n",
      "Введите номер полки: 10\n",
      "Такой полки не существует. Текущий перечень полок:1, 2, 3, 5, 7\n",
      "Введите команду:ds\n",
      "Введите номер полки: 1\n",
      "На полке есть документа, удалите их перед удалением полки. Текущий перечень полок: 1, 2, 3, 5, 7\n",
      "Введите команду:q\n",
      "Выход из программы\n"
     ]
    }
   ],
   "source": [
    "def DS_FUNTION(documents, directories):\n",
    "\n",
    "    while True:\n",
    "        command=input('Введите команду:')\n",
    "        \n",
    "        if command =='q':\n",
    "            print('Выход из программы')\n",
    "            break\n",
    "        \n",
    "        if command =='ds':\n",
    "        \n",
    "            shelf=input(\"Введите номер полки: \")\n",
    "    \n",
    "        if shelf in directories and len(directories[shelf]) > 0:\n",
    "            print('На полке есть документа, удалите их перед удалением полки. Текущий перечень полок: ' + ', '.join(directories.keys()))\n",
    "        if shelf in directories and len(directories[shelf]) == 0: \n",
    "            del directories[shelf]\n",
    "            print('Полка удалена. Текущий перечень полок: ' + ', '.join(directories.keys()))\n",
    "        if shelf not in directories:\n",
    "            print ('Такой полки не существует. Текущий перечень полок:' + ', '.join(directories.keys()))\n",
    "    \n",
    "DS_FUNTION(documents, directories)\n"
   ]
  },
  {
   "cell_type": "code",
   "execution_count": null,
   "metadata": {},
   "outputs": [],
   "source": []
  }
 ],
 "metadata": {
  "kernelspec": {
   "display_name": "Python 3",
   "language": "python",
   "name": "python3"
  },
  "language_info": {
   "codemirror_mode": {
    "name": "ipython",
    "version": 3
   },
   "file_extension": ".py",
   "mimetype": "text/x-python",
   "name": "python",
   "nbconvert_exporter": "python",
   "pygments_lexer": "ipython3",
   "version": "3.8.5"
  }
 },
 "nbformat": 4,
 "nbformat_minor": 4
}
