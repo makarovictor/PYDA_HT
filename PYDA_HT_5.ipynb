{
 "cells": [
  {
   "cell_type": "markdown",
   "metadata": {},
   "source": [
    "Переведите содержимое файла purchase_log.txt в словарь purchases вида:\n",
    "{‘1840e0b9d4’: ‘Продукты’, …}\n",
    "\n",
    "Для каждого user_id в файле visit_log.csv определите третий столбец с категорией покупки (если покупка была, сам файл visit_log.csv изменять не надо). Запишите в файл funnel.csv визиты из файла visit_log.csv, в которых были покупки с указанием категории.\n",
    "Учтите условия на данные:\n",
    "содержимое purchase_log.txt помещается в оперативную память компьютера\n",
    "содержимое visit_log.csv - нет; используйте только построчную обработку этого файла"
   ]
  },
  {
   "cell_type": "code",
   "execution_count": 35,
   "metadata": {},
   "outputs": [],
   "source": [
    "import json\n",
    "\n",
    "purch = {}\n",
    "\n",
    "#i = 0\n",
    "\n",
    "with open('C:\\\\Users\\\\Victor\\\\Desktop\\\\netology\\\\PYDA_HT_5\\\\purchase_log.txt', 'r',encoding = 'utf8') as P_LOG:\n",
    "        for line in P_LOG:\n",
    "            line = line.strip()\n",
    "            purch_info = json.loads(line)         \n",
    "            key = purch_info['user_id']\n",
    "            value = purch_info['category']\n",
    "            if key != 'user_id':\n",
    "                purch.setdefault(key,value)\n",
    "            #i += 1\n",
    "            #if i > 10:\n",
    "                #break\n",
    "#print(purch)        "
   ]
  },
  {
   "cell_type": "code",
   "execution_count": 41,
   "metadata": {},
   "outputs": [],
   "source": [
    "with open('C:\\\\Users\\\\Victor\\\\Desktop\\\\netology\\\\PYDA_HT_5\\\\visit_log.csv', 'r') as V_LOG, open('C:\\\\Users\\\\Victor\\\\Desktop\\\\netology\\\\PYDA_HT_5\\\\funnel.csv', 'w') as WR_FUNNEL:\n",
    "        for row in V_LOG:\n",
    "            line_list=row.strip().split(',')\n",
    "            if line_list[0] in purch.keys():\n",
    "                line_list.append(purch[line_list[0]])\n",
    "                add_line=','.join(line_list)\n",
    "            elif line_list[0]=='user_id':\n",
    "                line_list.append('category')\n",
    "                add_line=','.join(line_list)\n",
    "            else:\n",
    "                add_line=','.join(line_list)\n",
    "            WR_FUNNEL.write(add_line+'\\\\n')"
   ]
  },
  {
   "cell_type": "code",
   "execution_count": null,
   "metadata": {},
   "outputs": [],
   "source": []
  }
 ],
 "metadata": {
  "kernelspec": {
   "display_name": "Python 3",
   "language": "python",
   "name": "python3"
  },
  "language_info": {
   "codemirror_mode": {
    "name": "ipython",
    "version": 3
   },
   "file_extension": ".py",
   "mimetype": "text/x-python",
   "name": "python",
   "nbconvert_exporter": "python",
   "pygments_lexer": "ipython3",
   "version": "3.8.5"
  }
 },
 "nbformat": 4,
 "nbformat_minor": 4
}
