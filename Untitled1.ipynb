{
 "cells": [
  {
   "cell_type": "code",
   "execution_count": 23,
   "metadata": {},
   "outputs": [
    {
     "name": "stdout",
     "output_type": "stream",
     "text": [
      "Введите команду:p\n",
      "Введите номер документа:10006\n",
      "Владелец документа: Аристарх Павлов\n"
     ]
    }
   ],
   "source": [
    "documents = [\n",
    " {'type': 'passport', 'number': '2207 876234', 'name': 'Василий Гупкин'},\n",
    " {'type': 'invoice', 'number': '11-2', 'name': 'Геннадий Покемонов'},\n",
    " {'type': 'insurance', 'number': '10006', 'name': 'Аристарх Павлов'}\n",
    "]\n",
    " \n",
    "directories = { '1': ['2207 876234', '11-2'],  '2': ['10006'],  '3': []}\n",
    "\n",
    "def P_FUNCTION(documents):\n",
    "\n",
    "        \n",
    "            doc_input = input('Введите номер документа:')\n",
    "            for document in documents:\n",
    "                i = 1\n",
    "                number = document['number']\n",
    "                name = document['name']\n",
    "                if doc_input == number:\n",
    "                    print(f'Владелец документа: {name}')\n",
    "                    i = 0\n",
    "            if i :\n",
    "                print('Документ не найден в базе')\n",
    "\n",
    "                \n",
    "\n",
    "def S_FUNCTION (documents):\n",
    "\n",
    "\n",
    "    \n",
    "    number_of_doc = str(input('Введите номер документа: '))\n",
    "    for shelf in directories:\n",
    "        for doc_on_the_shelf in directories[shelf]:\n",
    "            if doc_on_the_shelf == number_of_doc:\n",
    "                print('Документ хранится на полке:', shelf)\n",
    "    i = 1\n",
    "    x= len(documents)            \n",
    "    for doc in documents:\n",
    "        if number_of_doc == doc[\"number\"]:\n",
    "            break\n",
    "        elif i == x and number_of_doc != doc[\"number\"]:\n",
    "            print ('Документ не найден в базе')\n",
    "        i +=1  \n",
    "                             \n",
    "                \n",
    "def main():\n",
    "    while True:\n",
    "        command = input('Введите команду:')\n",
    "                      \n",
    "        if command == 'p':\n",
    "            P_FUNCTION(documents)\n",
    "            \n",
    "        elif command == 's':\n",
    "            S_FUNCTION (documents)\n",
    "    \n",
    "        elif command == 'q':\n",
    "            print('До свидания')\n",
    "        break\n",
    "main()"
   ]
  },
  {
   "cell_type": "code",
   "execution_count": null,
   "metadata": {},
   "outputs": [],
   "source": []
  }
 ],
 "metadata": {
  "kernelspec": {
   "display_name": "Python 3",
   "language": "python",
   "name": "python3"
  },
  "language_info": {
   "codemirror_mode": {
    "name": "ipython",
    "version": 3
   },
   "file_extension": ".py",
   "mimetype": "text/x-python",
   "name": "python",
   "nbconvert_exporter": "python",
   "pygments_lexer": "ipython3",
   "version": "3.8.5"
  }
 },
 "nbformat": 4,
 "nbformat_minor": 4
}
